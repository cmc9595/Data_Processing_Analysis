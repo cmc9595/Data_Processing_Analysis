{
 "cells": [
  {
   "cell_type": "markdown",
   "metadata": {
    "id": "94b1AAuSaMdW"
   },
   "source": [
    "<img src='https://images.velog.io/images/717lumos/post/1e022be6-00cb-4a39-adba-09dadfdeddb8/logo2_compressed.svg' width=500/>"
   ]
  },
  {
   "cell_type": "markdown",
   "metadata": {
    "id": "ZNBZppDCNroN"
   },
   "source": [
    "# 01과 matplotlib"
   ]
  },
  {
   "cell_type": "markdown",
   "metadata": {
    "id": "LS2rtJiJlaF0"
   },
   "source": [
    "## 1.라이브러리 불러오기"
   ]
  },
  {
   "cell_type": "code",
   "execution_count": 1,
   "metadata": {
    "id": "ba319GIZlcFB"
   },
   "outputs": [],
   "source": [
    "import matplotlib.pyplot as plt"
   ]
  },
  {
   "cell_type": "markdown",
   "metadata": {
    "id": "WdTXrolFlihz"
   },
   "source": [
    "* 데이터 시각화\n",
    "\n",
    "> 수많은 데이터를 한눈에 파악할 수 있는 방법  \n",
    "① 시각화 도구 : histogram, boxplot, densityplot, scatter, ...  \n",
    "③ 수치화 도구 : min, max, mean, std, 사분위수, ...\n"
   ]
  },
  {
   "cell_type": "markdown",
   "metadata": {
    "id": "zisaizPylkJi"
   },
   "source": [
    "* Focus\n",
    "    * 우리가 다루는 데이터는 비즈니스를 담고 있습니다.\n",
    "    * 데이터 시각화의 목적은 \n",
    "    * 아름다운 그래프가 아니라, \n",
    "    * 통계적인 해석을 넘어,\n",
    "    * 한눈에 파악해야 할 정보는 **비즈니스의 인사이트** 입니다.\n",
    "\n",
    "* 한계\n",
    "    * 그래프와 통계량은 대부분 정보(원본)를 요약합니다.\n",
    "    * 요약을 하는 관점에 따라 결과가 달라집니다.\n",
    "    * 어떤 식으로든 요약을 하면, 정보의 손실이 발생 됩니다. "
   ]
  },
  {
   "cell_type": "markdown",
   "metadata": {
    "id": "vTLZ6yfgFy49"
   },
   "source": [
    "## 2.기본차트 그리기"
   ]
  },
  {
   "cell_type": "markdown",
   "metadata": {
    "id": "KUFdkjNwmU_U"
   },
   "source": [
    "1) 차트 그리기\n",
    "\n",
    "* plt.plot(1차원 값)\n",
    "    * x축 : 인덱스\n",
    "    * y축 : 1차원 값\n",
    "    * 라인차트를 그려줍니다."
   ]
  },
  {
   "cell_type": "code",
   "execution_count": 2,
   "metadata": {
    "id": "xXWd2lNXNroR"
   },
   "outputs": [
    {
     "data": {
      "image/png": "[encoded data removed]",
      "text/plain": [
       "<Figure size 432x288 with 1 Axes>"
      ]
     },
     "metadata": {
      "needs_background": "light"
     },
     "output_type": "display_data"
    }
   ],
   "source": [
    "# 차트 그리기\n",
    "plt.plot([2,5,3,1,2])\n",
    "\n",
    "# 화면에 보여주기\n",
    "plt.show()"
   ]
  },
  {
   "cell_type": "markdown",
   "metadata": {
    "id": "N3BRc7-dmcXb"
   },
   "source": [
    "2) x축과 y축의 값 지정하기  \n",
    "* plt.plot(x축, y축)"
   ]
  },
  {
   "cell_type": "code",
   "execution_count": 3,
   "metadata": {
    "id": "j-r4SkGBmcRK"
   },
   "outputs": [
    {
     "data": {
      "image/png": "[encoded data removed]",
      "text/plain": [
       "<Figure size 432x288 with 1 Axes>"
      ]
     },
     "metadata": {
      "needs_background": "light"
     },
     "output_type": "display_data"
    }
   ],
   "source": [
    "x = [1,2,3,4,5]\n",
    "y = [2,5,3,1,2]\n",
    "\n",
    "plt.plot(x, y)\n",
    "plt.show()"
   ]
  },
  {
   "cell_type": "markdown",
   "metadata": {
    "id": "Rq7IRfxMms6L"
   },
   "source": [
    "3) x와 y 값을 딕셔너리(2차원)로 만들어, 차트 그리기"
   ]
  },
  {
   "cell_type": "code",
   "execution_count": null,
   "metadata": {
    "id": "Q54KpUaAmsxc"
   },
   "outputs": [],
   "source": [
    "dict1 = {'v1': [1,2,3,4,5], 'v2': [2,5,3,1,2]}\n",
    "print(dict1)\n",
    "plt.plot('v1', 'v2', data = dict1)\n",
    "plt.show()\n"
   ]
  },
  {
   "cell_type": "markdown",
   "metadata": {
    "id": "xSWBmU_Yeu5A"
   },
   "source": [
    "<img src='https://raw.githubusercontent.com/jangrae/img/master/practice_01.png' width=120 align=\"left\"/>"
   ]
  },
  {
   "cell_type": "markdown",
   "metadata": {
    "id": "j90GjJvmnRGU"
   },
   "source": [
    "아래 값으로 차트를 그리시오.\n",
    "\n",
    "    x 값 1,2,3,4,5,6,7,8,9,10  \n",
    "    y 값 2,5,7,8,5,6,4,8,7,6\n"
   ]
  },
  {
   "cell_type": "code",
   "execution_count": null,
   "metadata": {
    "id": "GBPWfoE2nVDa"
   },
   "outputs": [],
   "source": []
  },
  {
   "cell_type": "markdown",
   "metadata": {
    "id": "0waRvlbgF60A"
   },
   "source": [
    "## 3.차트 꾸미기"
   ]
  },
  {
   "cell_type": "markdown",
   "metadata": {
    "id": "C98lJocCn-uy"
   },
   "source": [
    "1) x축, y축 이름, 타이틀 붙이기"
   ]
  },
  {
   "cell_type": "code",
   "execution_count": null,
   "metadata": {
    "id": "Bnn3k1kNNroV"
   },
   "outputs": [],
   "source": [
    "dict1 = {'v1': [1,2,3,4,5], 'v2': [2,5,3,1,2]}\n",
    "print(dict1)\n",
    "\n",
    "plt.plot('v1', 'v2', data = dict1)\n",
    "\n",
    "plt.xlabel('month') \n",
    "plt.ylabel('sales')\n",
    "plt.title('Monthly Sales')\n",
    "plt.show()"
   ]
  },
  {
   "cell_type": "markdown",
   "metadata": {
    "id": "LMyznJLmoI0C"
   },
   "source": [
    "2) 라인 스타일 조정하기"
   ]
  },
  {
   "cell_type": "markdown",
   "metadata": {
    "id": "Mxr7x-q4qXSS"
   },
   "source": [
    "The following format string characters are accepted to control the line style or marker:\n",
    "\n",
    "|\tcharacter\t|\tdescription\t|\n",
    "|\t----\t|\t----\t|\n",
    "|\t'-'\t|\tsolid line style\t|\n",
    "|\t'--'\t|\tdashed line style\t|\n",
    "|\t'-.'\t|\tdash-dot line style\t|\n",
    "|\t':'\t|\tdotted line style\t|\n",
    "|\t'.'\t|\tpoint marker\t|\n",
    "|\t','\t|\tpixel marker\t|\n",
    "|\t'o'\t|\tcircle marker\t|\n",
    "|\t'v'\t|\ttriangle_down marker\t|\n",
    "|\t'^'\t|\ttriangle_up marker\t|\n",
    "|\t'<'\t|\ttriangle_left marker\t|\n",
    "|\t'>'\t|\ttriangle_right marker\t|\n",
    "|\t'1'\t|\ttri_down marker\t|\n",
    "|\t'2'\t|\ttri_up marker\t|\n",
    "|\t'3'\t|\ttri_left marker\t|\n",
    "|\t'4'\t|\ttri_right marker\t|\n",
    "|\t's'\t|\tsquare marker\t|\n",
    "|\t'p'\t|\tpentagon marker\t|\n",
    "|\t'*'\t|\tstar marker\t|\n",
    "|\t'h'\t|\thexagon1 marker\t|\n",
    "|\t'H'\t|\thexagon2 marker\t|\n",
    "|\t'+'\t|\tplus marker\t|\n",
    "|\t'x'\t|\tx marker\t|\n",
    "|\t'D'\t|\tdiamond marker\t|\n",
    "|\t'd'\t|\tthin_diamond marker\t|\n",
    "|\t'|'\t|\tvline marker\t|\n",
    "|\t'_'\t|\thline marker\t|\n"
   ]
  },
  {
   "cell_type": "markdown",
   "metadata": {
    "id": "M5_lCMiOrLoZ"
   },
   "source": [
    "The following color abbreviations are supported:\n",
    "\n",
    "|\tcharacter\t|\tcolor\t|\n",
    "|\t----\t|\t----\t|\n",
    "|\t‘b’\t|\tblue\t|\n",
    "|\t‘g’\t|\tgreen\t|\n",
    "|\t‘r’\t|\tred\t|\n",
    "|\t‘c’\t|\tcyan\t|\n",
    "|\t‘m’\t|\tmagenta\t|\n",
    "|\t‘y’\t|\tyellow\t|\n",
    "|\t‘k’\t|\tblack\t|\n",
    "|\t‘w’\t|\twhite\t|\n"
   ]
  },
  {
   "cell_type": "code",
   "execution_count": null,
   "metadata": {
    "id": "mhNL2hSroJuE"
   },
   "outputs": [],
   "source": [
    "dict1 = {'v1': [1,2,3,4,5], 'v2': [2,5,3,1,2]}\n",
    "print(dict1)\n",
    "\n",
    "plt.plot('v1', 'v2', 'go--', data = dict1)\n",
    "plt.xlabel('month')\n",
    "plt.ylabel('sales')\n",
    "plt.title('Monthly Sales')\n",
    "plt.show()"
   ]
  },
  {
   "cell_type": "markdown",
   "metadata": {
    "id": "C31O3jSkoV7C"
   },
   "source": [
    "3) 여러 그래프 겹쳐서 그리기"
   ]
  },
  {
   "cell_type": "code",
   "execution_count": null,
   "metadata": {
    "id": "kd1TajmgoWtR"
   },
   "outputs": [],
   "source": [
    "dict1 = {'v1': [1,2,3,4,5], 'v2': [2,5,3,1,2], 'v3':[4,6,7,6,5]}\n",
    "print(dict1)\n",
    "\n",
    "plt.plot('v1', 'v2', 'go--', data = dict1)\n",
    "plt.plot('v1', 'v3', 'rs-', data = dict1)\n",
    "plt.xlabel('month')\n",
    "plt.ylabel('sales')\n",
    "plt.title('Monthly Sales')\n",
    "plt.show()"
   ]
  },
  {
   "cell_type": "markdown",
   "metadata": {
    "id": "aP4e_tnRocl6"
   },
   "source": [
    "4) 범례, 그리드 추가"
   ]
  },
  {
   "cell_type": "code",
   "execution_count": null,
   "metadata": {
    "id": "7GTVwX3PoeZK"
   },
   "outputs": [],
   "source": [
    "dict1 = {'v1': [1,2,3,4,5], 'v2': [2,5,3,1,2], 'v3':[4,6,7,6,5]}\n",
    "print(dict1)\n",
    "\n",
    "plt.plot('v1', 'v2', 'go--', data = dict1, label = 'apple')\n",
    "plt.plot('v1', 'v3', 'rs-', data = dict1, label = 'mango')\n",
    "plt.xlabel('month')\n",
    "plt.ylabel('sales')\n",
    "plt.title('Monthly Sales')\n",
    "plt.legend()\n",
    "plt.grid()\n",
    "plt.show()"
   ]
  },
  {
   "cell_type": "markdown",
   "metadata": {
    "id": "__nnkr0qovnu"
   },
   "source": [
    "<img src='https://raw.githubusercontent.com/jangrae/img/master/practice_01.png' width=120 align=\"left\"/>"
   ]
  },
  {
   "cell_type": "markdown",
   "metadata": {
    "id": "33UTDZYNohRW"
   },
   "source": [
    "아래 조건에 맞게 그래프를 그려 봅시다.\n",
    "\n",
    "    dict1 = {'x':[1,2,3,4,5,6,7,8,9,10,11,12], 'y1':[21,56,32,18,27,54,35,49,92,87,74,76], 'y2':[41,65,79,67,58,34,37,19,21,52,43,49]}\n",
    "\n",
    "* x축에 'x', y축에 'y1', 'y2' 로 두개의 라인차트를 겹쳐서 그리시오.\n",
    "* x축 이름 : month\n",
    "* y축 이름 : Income\n",
    "* title : Monthly Income\n",
    "* legend : y1 - 2020, y2 = 2021\n",
    "* grid 추가"
   ]
  },
  {
   "cell_type": "code",
   "execution_count": null,
   "metadata": {
    "id": "6thH5cmpoipq"
   },
   "outputs": [],
   "source": []
  },
  {
   "cell_type": "markdown",
   "metadata": {
    "id": "vkp7gTCuV_QP"
   },
   "source": [
    "## 4.추가기능①"
   ]
  },
  {
   "cell_type": "markdown",
   "metadata": {
    "id": "IejhSEfjpBBf"
   },
   "source": [
    "#### 1) 축 범위 조정하기"
   ]
  },
  {
   "cell_type": "code",
   "execution_count": null,
   "metadata": {
    "id": "eYGDe90iNroY",
    "scrolled": true
   },
   "outputs": [],
   "source": [
    "dict1 = {'v1': [1,2,3,4,5], 'v2': [2,5,3,1,2], 'v3':[4,6,7,6,5]}\n",
    "\n",
    "plt.plot('v1', 'v3', 'rs-', data = dict1, label = 'mango')\n",
    "plt.xlim(0, 6)\n",
    "plt.ylim(0, 8)\n",
    "plt.grid()\n",
    "plt.show()"
   ]
  },
  {
   "cell_type": "markdown",
   "metadata": {
    "id": "epz08DXFpIKB"
   },
   "source": [
    "#### 2) 그래프 크기 조정\n",
    "\n",
    "    * default size는 6.4, 4.4"
   ]
  },
  {
   "cell_type": "code",
   "execution_count": null,
   "metadata": {
    "id": "QxhGp5t9pFoC"
   },
   "outputs": [],
   "source": [
    "dict1 = {'v1': [1,2,3,4,5], 'v2': [2,5,3,1,2], 'v3':[4,6,7,6,5]}\n",
    "\n",
    "plt.figure(figsize = (4, 3))\n",
    "plt.plot('v1', 'v3', 'rs-', data = dict1, label = 'mango')\n",
    "plt.grid()\n",
    "plt.show()"
   ]
  },
  {
   "cell_type": "markdown",
   "metadata": {
    "id": "regZGcHJpNvC"
   },
   "source": [
    "#### 3) 수평선 수직선 추가"
   ]
  },
  {
   "cell_type": "code",
   "execution_count": null,
   "metadata": {
    "id": "UDj5jMGTpNmT"
   },
   "outputs": [],
   "source": [
    "dict1 = {'v1': [1,2,3,4,5], 'v2': [2,5,3,1,2], 'v3':[4,6,7,6,5]}\n",
    "\n",
    "plt.plot('v1', 'v3', 'rs-', data = dict1, label = 'mango')\n",
    "plt.axhline(5.3, color = 'grey', linestyle = '--')\n",
    "plt.axvline(2.4, color = 'grey', linestyle = '--')\n",
    "plt.show()"
   ]
  },
  {
   "cell_type": "markdown",
   "metadata": {
    "id": "BAP5dDvgpSsz"
   },
   "source": [
    "#### 4) 그래프에 텍스트 추가"
   ]
  },
  {
   "cell_type": "code",
   "execution_count": null,
   "metadata": {
    "id": "JK0sO0rupSmT"
   },
   "outputs": [],
   "source": [
    "dict1 = {'v1': [1,2,3,4,5], 'v2': [2,5,3,1,2], 'v3':[4,6,7,6,5]}\n",
    "\n",
    "plt.plot('v1', 'v3', 'rs-', data = dict1, label = 'mango')\n",
    "plt.axhline(5.3, color = 'grey', linestyle = '--')\n",
    "plt.axvline(2.4, color = 'grey', linestyle = '--')\n",
    "\n",
    "plt.text(2.5, 4.2, '2.4')\n",
    "plt.text(1.2, 5.4, '5.3')\n",
    "\n",
    "plt.show()"
   ]
  },
  {
   "cell_type": "markdown",
   "metadata": {
    "id": "J-t-iZUHprWY"
   },
   "source": [
    "<img src='https://raw.githubusercontent.com/jangrae/img/master/practice_01.png' width=120 align=\"left\"/>"
   ]
  },
  {
   "cell_type": "markdown",
   "metadata": {
    "id": "cLgAb8wKpXXx"
   },
   "source": [
    "아래 정보로 그래프를 그려 봅시다.\n",
    "\n",
    "    dict1 = {'x':[1,2,3,4,5,6,7,8,9,10,11,12], 'y':[21,56,32,18,27,54,35,49,92,87,74,76]}\n",
    "\n",
    "* x축에 'x', y축에 'y'로 라인차트를 그리시오.\n",
    "* x축 이름 : month\n",
    "* y축 이름 : Income\n",
    "* title : Monthly Income\n",
    "* y값의 평균선 추가\n",
    "* 적절한 위치에 평균값 추가."
   ]
  },
  {
   "cell_type": "code",
   "execution_count": null,
   "metadata": {
    "id": "xHn_ClrTpXyp"
   },
   "outputs": [],
   "source": []
  },
  {
   "cell_type": "markdown",
   "metadata": {
    "id": "u4PLAMFCXTo_"
   },
   "source": [
    "## 5.추가기능② : 여러 그래프 나눠서 그리기"
   ]
  },
  {
   "cell_type": "markdown",
   "metadata": {
    "id": "L6kLdMQVrixx"
   },
   "source": [
    "![](https://codetorial.net/matplotlib/_images/subplot_03.png)\n",
    "\n",
    "* row : 고정된 행 수\n",
    "* column : 고정된 열 수\n",
    "* index : 순서"
   ]
  },
  {
   "cell_type": "markdown",
   "metadata": {
    "id": "I8I2aFxLpwuh"
   },
   "source": [
    "#### 1) 위, 아래로(2행 1열) 그래프 그리기."
   ]
  },
  {
   "cell_type": "code",
   "execution_count": null,
   "metadata": {
    "id": "wMhyj0pkXTpA",
    "scrolled": true
   },
   "outputs": [],
   "source": [
    "dict1 = {'v1': [1,2,3,4,5], 'v2': [2,5,3,1,2], 'v3':[4,6,7,6,5]}\n",
    "\n",
    "plt.subplot(2,1,1)\n",
    "plt.plot('v1', 'v2', 'go--', data = dict1)\n",
    "\n",
    "plt.subplot(2,1,2)\n",
    "plt.plot('v1', 'v3', 'rs-', data = dict1)\n",
    "\n",
    "plt.tight_layout() # 그래프간 간격을 적절히 맞추기\n",
    "plt.show()"
   ]
  },
  {
   "cell_type": "markdown",
   "metadata": {
    "id": "w44PwCIOp7n0"
   },
   "source": [
    "#### 2) 옆으로 (1행 2열) 그래프 그리기."
   ]
  },
  {
   "cell_type": "code",
   "execution_count": null,
   "metadata": {
    "id": "t2408sFip8FS"
   },
   "outputs": [],
   "source": [
    "dict1 = {'v1': [1,2,3,4,5], 'v2': [2,5,3,1,2], 'v3':[4,6,7,6,5]}\n",
    "\n",
    "plt.subplot(1,2,1)\n",
    "plt.plot('v1', 'v2', 'go--', data = dict1)\n",
    "\n",
    "plt.subplot(1,2,2)\n",
    "plt.plot('v1', 'v3', 'rs-', data = dict1)\n",
    "\n",
    "plt.tight_layout() # 그래프간 간격을 적절히 맞추기\n",
    "plt.show()"
   ]
  },
  {
   "cell_type": "markdown",
   "metadata": {
    "id": "ahjmR9hbqEkf"
   },
   "source": [
    "<img src='https://raw.githubusercontent.com/jangrae/img/master/practice_01.png' width=120 align=\"left\"/>"
   ]
  },
  {
   "cell_type": "markdown",
   "metadata": {
    "id": "4-C6ZW1gqCF5"
   },
   "source": [
    "아래 정보로 그래프를 그려 봅시다.\n",
    "\n",
    "    dict1 = {'x':[1,2,3,4,5,6,7,8,9,10,11,12], 'y1':[21,56,32,18,27,54,35,49,92,87,74,76], 'y2':[31,52,42,25,22,24,38,39,72,77,94,86]}\n",
    "\n",
    "* 그래프1 : x, y1\n",
    "* 그래프2 : x, y2\n",
    "* 1행, 2열로 그래프를 그리시오."
   ]
  },
  {
   "cell_type": "code",
   "execution_count": null,
   "metadata": {
    "id": "WRdYf2mWqB9K"
   },
   "outputs": [],
   "source": []
  },
  {
   "cell_type": "markdown",
   "metadata": {
    "id": "3JjWiw9qvb6v"
   },
   "source": [
    "## 6.종합실습"
   ]
  },
  {
   "cell_type": "markdown",
   "metadata": {
    "id": "3e960076"
   },
   "source": [
    "### 1) 기본기"
   ]
  },
  {
   "cell_type": "markdown",
   "metadata": {
    "id": "41ec7f80"
   },
   "source": [
    "① 다음의 데이터를 사용하여 라인차트를 그리시오.\n",
    "* 데이터: [2, 5, 3, 1, 2]"
   ]
  },
  {
   "cell_type": "code",
   "execution_count": null,
   "metadata": {
    "id": "359dae12"
   },
   "outputs": [],
   "source": []
  },
  {
   "cell_type": "markdown",
   "metadata": {
    "id": "0f321e1b"
   },
   "source": [
    "② 다음의 데이터로 x, y 값을 지정하여 라인차트를 그리시오.\n",
    "* 데이터\n",
    "    * x = [1, 2, 3, 4, 5]\n",
    "    *y = [20, 15, 30, 10, 25]"
   ]
  },
  {
   "cell_type": "code",
   "execution_count": null,
   "metadata": {
    "id": "3d743f70",
    "scrolled": false
   },
   "outputs": [],
   "source": []
  },
  {
   "cell_type": "markdown",
   "metadata": {
    "id": "502694a9"
   },
   "source": [
    "③ 다음의 데이터로 딕셔너리 dict1을 만들고 값을 지정하여 라인차트를 그리시오.\n",
    "* 데이터\n",
    "    * 'v1': [1, 2, 3, 4, 5]\n",
    "    * 'v2': [2, 5, 3, 1, 2]\n",
    "* 힌트 : plot 안에 딕셔너리로 \n"
   ]
  },
  {
   "cell_type": "code",
   "execution_count": null,
   "metadata": {
    "id": "375cc7db"
   },
   "outputs": [],
   "source": []
  },
  {
   "cell_type": "markdown",
   "metadata": {
    "id": "3059c7ef"
   },
   "source": [
    "④ 위에서 만들었던 그래프에 x축, y축 레이블과 타이틀을 추가해 봅시다.\n",
    "* x축 레이블: month\n",
    "* y축 레이블: sales\n",
    "* 타이틀: Monthly Sales"
   ]
  },
  {
   "cell_type": "code",
   "execution_count": null,
   "metadata": {
    "id": "74011ab0",
    "scrolled": true
   },
   "outputs": [],
   "source": []
  },
  {
   "cell_type": "markdown",
   "metadata": {
    "id": "cd86f1ba"
   },
   "source": [
    "⑤ 위에서 만들었던 그래프의 라인 스타일을 다음과 같이 바꿔 봅시다.\n",
    "* color: green\n",
    "* marker: circle\n",
    "* line style: dashed"
   ]
  },
  {
   "cell_type": "code",
   "execution_count": null,
   "metadata": {
    "id": "52cb789a"
   },
   "outputs": [],
   "source": []
  },
  {
   "cell_type": "markdown",
   "metadata": {
    "id": "b1c99d9e"
   },
   "source": [
    "⑥ 다음의 조건에 맞게 그래프를 그리시오.\n",
    "* 데이터\n",
    "    * 'v1': [3, 6, 9, 11]\n",
    "    * 'v2': [88, 82, 76, 84]\n",
    "* x축 레이블: month\n",
    "* y축 레이블: score\n",
    "* 타이틀: Test Score\n",
    "* color: red\n",
    "* marker:  triangle_down\n",
    "* line style: dashed"
   ]
  },
  {
   "cell_type": "code",
   "execution_count": null,
   "metadata": {
    "id": "4b0a4882"
   },
   "outputs": [],
   "source": []
  },
  {
   "cell_type": "markdown",
   "metadata": {
    "id": "c7e7bd46"
   },
   "source": [
    "⑦ 위에서 만들었던 그래프에서 다음과 같이 새로운 데이터 v3를 추가하고, 주어진 조건에 맞게 하나의 그래프를 더 추가해 봅시다.\n",
    "* 데이터\n",
    "    * 'v3': [4, 6, 7,5]\n",
    "* v1, v3의 값으로 지정된 그래프\n",
    "*  color: red\n",
    "* marker: square\n",
    "* line style: solid"
   ]
  },
  {
   "cell_type": "code",
   "execution_count": null,
   "metadata": {
    "id": "92368cb2",
    "scrolled": true
   },
   "outputs": [],
   "source": []
  },
  {
   "cell_type": "markdown",
   "metadata": {
    "id": "e6c92602"
   },
   "source": [
    "⑧ 위에서 만들었던 그래프에서 범례와 그리드를 추가해 보시오.\n",
    "* 첫 번째 레이블: apple\n",
    "* 두 번째 레이블: mango"
   ]
  },
  {
   "cell_type": "code",
   "execution_count": null,
   "metadata": {
    "id": "981cf1b8"
   },
   "outputs": [],
   "source": []
  },
  {
   "cell_type": "markdown",
   "metadata": {
    "id": "fe33ce5f"
   },
   "source": [
    "### 2) 추가 기능"
   ]
  },
  {
   "cell_type": "markdown",
   "metadata": {
    "id": "35c5178f"
   },
   "source": [
    "① 다음의 조건에 따라 라인차트를 그리기 위한 코드를 작성하고, 축의 범위를 조정해 봅시다.\n",
    "* 데이터\n",
    "    * 'v1': [1, 2, 3, 4, 5]\n",
    "    * 'v2': [2, 5, 3, 1, 2]\n",
    "    * 'v3': [4, 6, 7, 6, 5]\n",
    "* v1, v3의 값으로 지정\n",
    "* 레이블: mango\n",
    "* color: red\n",
    "* marker: square\n",
    "* line style: solid\n",
    "* 축의 범위\n",
    "    * x축: (0, 6)\n",
    "    * y축: (0, 8)\n",
    "* 그리드 / 레이블 추가"
   ]
  },
  {
   "cell_type": "code",
   "execution_count": null,
   "metadata": {
    "id": "e2c3231a"
   },
   "outputs": [],
   "source": []
  },
  {
   "cell_type": "markdown",
   "metadata": {
    "id": "b85f4923"
   },
   "source": [
    "② 위에서 만들었던 그래프의 크기를 조정해 봅시다.\n",
    "* 그래프 크기\n",
    "    * 가로: 8\n",
    "    * 세로: 6"
   ]
  },
  {
   "cell_type": "code",
   "execution_count": null,
   "metadata": {
    "id": "6cad0010",
    "scrolled": true
   },
   "outputs": [],
   "source": []
  },
  {
   "cell_type": "markdown",
   "metadata": {
    "id": "ce02d7e4"
   },
   "source": [
    "③ 다음의 조건에 따라 라인차트를 그리기 위한 코드를 작성하고, 수평선, 수직선을 추가해 봅시다.  \n",
    "\n",
    "단, 라인스타일, 마커, 칼라 등은 자유롭게 조정해도 됩니다.\n",
    "* 데이터\n",
    "    * 'v1': [1, 2, 3, 4, 5]\n",
    "    * 'v2': [2, 5, 3, 1, 2]\n",
    "    * 'v3': [4, 6, 7, 6, 5]\n",
    "* v1, v3의 값으로 지정\n",
    "* 레이블: mango\n",
    "* color: red\n",
    "* marker: square\n",
    "* line style: solid\n",
    "* 수평선\n",
    "    * y값: 5.3\n",
    "    * color: grey\n",
    "    * line style: dashed\n",
    "* 수직선\n",
    "    * x값: 2.4\n",
    "    * color: grey\n",
    "    * line style: dashed"
   ]
  },
  {
   "cell_type": "code",
   "execution_count": null,
   "metadata": {
    "id": "668b61c9"
   },
   "outputs": [],
   "source": []
  },
  {
   "cell_type": "markdown",
   "metadata": {
    "id": "05215f18"
   },
   "source": [
    "④ 위에서 만들었던 그래프에 텍스트를 추가해 봅시다.\n",
    "* (2.5, 4.2)에 수직선의 값을 나타내는 텍스트 추가\n",
    "* (1.2, 5.4)에 수평선의 값을 나타내는 텍스트 추가"
   ]
  },
  {
   "cell_type": "code",
   "execution_count": null,
   "metadata": {
    "id": "5a6c9426"
   },
   "outputs": [],
   "source": []
  },
  {
   "cell_type": "markdown",
   "metadata": {
    "id": "d22dd2b6"
   },
   "source": [
    "⑤ 다음의 그래프들을 위아래로 나누어 그리시오.\n",
    "\n",
    "단, 라인스타일, 마커, 칼라 등은 자유롭게 조정해도 됩니다.\n",
    "* 데이터\n",
    "    * 'v1': [1, 2, 3, 4, 5]\n",
    "    * 'v2': [2, 5, 3, 1, 2]\n",
    "    * 'v3': [4, 6, 7, 6, 5]\n",
    "* 그래프 1\n",
    "    * v1, v2의 값으로 지정\n",
    "    * color: green\n",
    "    * marker:  circle\n",
    "    * line style: dashed\n",
    "* 그래프 2\n",
    "    * v1, v3의 값으로 지정\n",
    "    * color: red\n",
    "    * marker: square\n",
    "    * line style: solid"
   ]
  },
  {
   "cell_type": "code",
   "execution_count": null,
   "metadata": {
    "id": "bf8d5f23"
   },
   "outputs": [],
   "source": []
  },
  {
   "cell_type": "markdown",
   "metadata": {
    "id": "33167e6f"
   },
   "source": [
    "⑥ 다음의 그래프들을 좌우로 나누어 그리시오.\n",
    "\n",
    "단, 라인스타일, 마커, 칼라 등은 자유롭게 조정해도 됩니다.\n",
    "* 데이터\n",
    "    * 'v1': [10, 20, 30, 40, 50]\n",
    "    * 'v2': [15, 40, 25, 30, 10]\n",
    "    * 'v3': [30, 20, 15, 25, 15]\n",
    "* 그래프 1\n",
    "    * v1, v2의 값으로 지정\n",
    "    * color: yellow\n",
    "    * marker:  square\n",
    "    * line style: dotted\n",
    "* 그래프 2\n",
    "    * v1, v3의 값으로 지정\n",
    "    * color: cyan\n",
    "    * marker: circle\n",
    "    * line style: dashed"
   ]
  },
  {
   "cell_type": "code",
   "execution_count": null,
   "metadata": {
    "id": "664b7ada"
   },
   "outputs": [],
   "source": []
  },
  {
   "cell_type": "markdown",
   "metadata": {
    "id": "ff7b484d"
   },
   "source": [
    "⑦ 다음의 그래프들을 네 개의 영역에 나누어 그리시오.\n",
    "\n",
    "단, 라인스타일, 마커, 칼라 등은 자유롭게 조정해도 됩니다.\n",
    "* 데이터\n",
    "    * 'v1': [1, 2, 3, 4, 5]\n",
    "    * 'v2': [6, 7, 8, 9, 10]\n",
    "    * 'v3': [3, 5, 2, 1, 3]\n",
    "    * 'v4': [4, 2, 5, 4, 2]\n",
    "* 그래프 1\n",
    "    * v1, v3의 값으로 지정\n",
    "    * color: blue\n",
    "    * marker: circle\n",
    "    * line style: solid\n",
    "* 그래프 2\n",
    "    * v1, v4의 값으로 지정\n",
    "    * color: green\n",
    "    * marker: square\n",
    "    * line style: dashed\n",
    "* 그래프 3\n",
    "    * v2, v3의 값으로 지정\n",
    "    * color: red\n",
    "    * marker: star\n",
    "    * line style: dash-dot\n",
    "* 그래프 4\n",
    "    * v2, v4의 값으로 지정\n",
    "    * color: black\n",
    "    * marker: pentagon\n",
    "    * line style: dotted"
   ]
  },
  {
   "cell_type": "code",
   "execution_count": null,
   "metadata": {
    "id": "658f3c64"
   },
   "outputs": [],
   "source": []
  },
  {
   "cell_type": "code",
   "execution_count": null,
   "metadata": {
    "id": "7xXZiQRDveDT"
   },
   "outputs": [],
   "source": []
  }
 ],
 "metadata": {
  "colab": {
   "collapsed_sections": [],
   "name": "01과 matplotlib.ipynb",
   "provenance": []
  },
  "kernelspec": {
   "display_name": "Python 3",
   "language": "python",
   "name": "python3"
  },
  "language_info": {
   "codemirror_mode": {
    "name": "ipython",
    "version": 3
   },
   "file_extension": ".py",
   "mimetype": "text/x-python",
   "name": "python",
   "nbconvert_exporter": "python",
   "pygments_lexer": "ipython3",
   "version": "3.8.7"
  }
 },
 "nbformat": 4,
 "nbformat_minor": 1
}
