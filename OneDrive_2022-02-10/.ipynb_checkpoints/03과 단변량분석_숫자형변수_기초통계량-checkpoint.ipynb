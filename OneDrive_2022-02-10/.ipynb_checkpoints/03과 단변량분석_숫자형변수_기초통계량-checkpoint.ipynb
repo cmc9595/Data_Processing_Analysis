{
 "cells": [
  {
   "cell_type": "markdown",
   "metadata": {
    "id": "mVOYUVwYNrob"
   },
   "source": [
    "# 03과 단변량분석_숫자형변수_기초통계량"
   ]
  },
  {
   "cell_type": "markdown",
   "metadata": {
    "id": "adtGg06rvqe3"
   },
   "source": [
    "<img src='https://github.com/DA4BAM/image/blob/main/%EB%8B%A8%EB%B3%80%EB%9F%89%EB%B6%84%EC%84%9D.png?raw=true' width=400/>"
   ]
  },
  {
   "cell_type": "markdown",
   "metadata": {
    "id": "LS2rtJiJlaF0"
   },
   "source": [
    "## 1.라이브러리 불러오기"
   ]
  },
  {
   "cell_type": "code",
   "execution_count": 1,
   "metadata": {
    "id": "ba319GIZlcFB"
   },
   "outputs": [],
   "source": [
    "import matplotlib.pyplot as plt\n",
    "import numpy as np\n",
    "import pandas as pd"
   ]
  },
  {
   "cell_type": "markdown",
   "metadata": {
    "id": "qY83KTiYc0n9"
   },
   "source": [
    "## 2.대푯값"
   ]
  },
  {
   "cell_type": "markdown",
   "metadata": {
    "id": "TSH5qe--sZsK"
   },
   "source": [
    "1) 평균"
   ]
  },
  {
   "cell_type": "code",
   "execution_count": 2,
   "metadata": {
    "id": "vPI2O4siNroc"
   },
   "outputs": [
    {
     "name": "stdout",
     "output_type": "stream",
     "text": [
      "10.476190476190476\n",
      "68.57142857142857\n"
     ]
    }
   ],
   "source": [
    "# 산술평균\n",
    "a = [1, 2, 3, 3, 4, 4, 4, 5, 6, 7, 8, 9, 10, 11, 15, 17, 17, 19, 20, 25, 30]\n",
    "print(np.mean(a))\n",
    "\n",
    "# 조화평균\n",
    "# 거리 20 km\n",
    "# 갈때 속력 60 km\n",
    "# 올때 속력 80 km\n",
    "# 평균 속력은?\n",
    "\n",
    "a1, a2 = 60, 80\n",
    "hm = 2*a1*a2 / (a1 + a2)\n",
    "print(hm)"
   ]
  },
  {
   "cell_type": "markdown",
   "metadata": {
    "id": "VH6yv56lsfZR"
   },
   "source": [
    "2) 중앙값(중위수, median)  \n",
    "\n",
    "자료의 순서상 가운데 위치한 값"
   ]
  },
  {
   "cell_type": "code",
   "execution_count": 3,
   "metadata": {
    "id": "Jy0CwElMsfNy"
   },
   "outputs": [
    {
     "name": "stdout",
     "output_type": "stream",
     "text": [
      "8.0\n"
     ]
    }
   ],
   "source": [
    "a = [1, 2, 3, 3, 4, 4, 4, 5, 6, 7, 8, 9, 10, 11, 15, 17, 17, 19, 20, 25, 30]\n",
    "print(np.median(a))"
   ]
  },
  {
   "cell_type": "markdown",
   "metadata": {
    "id": "aFytLj2tstrS"
   },
   "source": [
    "3) 최빈값\n",
    "\n",
    "자료 중에서 가장 빈번하게 나타나는 값(빈도가 높은 값)"
   ]
  },
  {
   "cell_type": "code",
   "execution_count": 4,
   "metadata": {
    "id": "lCVHNV9DsubB"
   },
   "outputs": [
    {
     "data": {
      "text/plain": [
       "0    4\n",
       "dtype: int64"
      ]
     },
     "execution_count": 4,
     "metadata": {},
     "output_type": "execute_result"
    }
   ],
   "source": [
    "a = [1, 2, 3, 3, 4, 4, 4, 5, 6, 7, 8, 9, 10, 11, 15, 17, 17, 19, 20, 25, 30]\n",
    "a = pd.Series(a)\n",
    "a.mode()"
   ]
  },
  {
   "cell_type": "markdown",
   "metadata": {
    "id": "vTDE0Dzxs01S"
   },
   "source": [
    "4) 4분위수"
   ]
  },
  {
   "cell_type": "markdown",
   "metadata": {
    "id": "EfaapGaeuqXg"
   },
   "source": [
    "![](https://mblogthumb-phinf.pstatic.net/20150702_229/jevida_1435803723327eyeeG_PNG/3.png?type=w2)"
   ]
  },
  {
   "cell_type": "code",
   "execution_count": 5,
   "metadata": {
    "id": "bIFWnH4ks1No"
   },
   "outputs": [
    {
     "name": "stdout",
     "output_type": "stream",
     "text": [
      "[ 1.  4.  8. 17. 30.]\n"
     ]
    }
   ],
   "source": [
    "a = [1, 2, 3, 3, 4, 4, 4, 5, 6, 7, 8, 9, 10, 11, 15, 17, 17, 19, 20, 25, 30]\n",
    "print(np.percentile(a, [0, 25, 50, 75, 100]))\n"
   ]
  },
  {
   "cell_type": "markdown",
   "metadata": {
    "id": "xSWBmU_Yeu5A"
   },
   "source": [
    "<img src='https://raw.githubusercontent.com/jangrae/img/master/practice_01.png' width=120 align=\"left\"/>"
   ]
  },
  {
   "cell_type": "markdown",
   "metadata": {
    "id": "fGNJycBYs6XZ"
   },
   "source": [
    "연습문제를 풀어 봅시다."
   ]
  },
  {
   "cell_type": "code",
   "execution_count": null,
   "metadata": {
    "id": "o36wZp21s6p5"
   },
   "outputs": [],
   "source": [
    "l1 = list(range(0, 20,5)) + list(range(0,20,2)) + [10,11,12,15,15,17]\n",
    "# l1의 평균\n",
    "\n",
    "\n",
    "# l1의 중앙값\n",
    "\n",
    "\n",
    "# l1의 최빈값\n",
    "\n",
    "\n",
    "# l1의 사분위수\n",
    "\n"
   ]
  },
  {
   "cell_type": "markdown",
   "metadata": {
    "id": "85KHqr0rhFdC"
   },
   "source": [
    "## 3.기초통계량"
   ]
  },
  {
   "cell_type": "markdown",
   "metadata": {
    "id": "X4bu__mctP3o"
   },
   "source": [
    "1) 시리즈.describe()"
   ]
  },
  {
   "cell_type": "code",
   "execution_count": null,
   "metadata": {
    "id": "Nr5zRn5rNroc",
    "scrolled": true
   },
   "outputs": [],
   "source": [
    "a = [1, 2, 3, 3, 4, 4, 4, 5, 6, 7, 8, 9, 10, 11, 15, 17, 17, 19, 20, 25, 30]\n",
    "s = pd.Series(a)\n",
    "print(s.describe())"
   ]
  },
  {
   "cell_type": "markdown",
   "metadata": {
    "id": "LdjuxDzxtS7A"
   },
   "source": [
    "2) 데이터프레임.dtypes"
   ]
  },
  {
   "cell_type": "code",
   "execution_count": null,
   "metadata": {
    "id": "U6JOAAIvoXf-"
   },
   "outputs": [],
   "source": [
    "# 데이터프레임 각 변수들의 데이터 타입을 조회해 봅시다.\n",
    "data = pd.read_csv('https://bit.ly/3FsgwkJ')\n",
    "data.dtypes"
   ]
  },
  {
   "cell_type": "markdown",
   "metadata": {
    "id": "golMuQGatck3"
   },
   "source": [
    "3) 데이터프레임.info()"
   ]
  },
  {
   "cell_type": "code",
   "execution_count": null,
   "metadata": {
    "id": "LCGTj8ImtccA"
   },
   "outputs": [],
   "source": [
    "# 데이터프레임 각 변수들의 데이터 건수와 타입을 조회해 봅시다.\n",
    "data.info()\n"
   ]
  },
  {
   "cell_type": "markdown",
   "metadata": {
    "id": "gCVwyFgStnsK"
   },
   "source": [
    "4) 데이터프레임.describe()"
   ]
  },
  {
   "cell_type": "code",
   "execution_count": null,
   "metadata": {
    "id": "Qh8S5zkJtnjY"
   },
   "outputs": [],
   "source": [
    "# 데이터프레임 각 변수들의 기초통계량을 조회해 봅시다.\n",
    "data.describe()"
   ]
  },
  {
   "cell_type": "markdown",
   "metadata": {
    "id": "qAR8eFUZtyKL"
   },
   "source": [
    "<img src='https://raw.githubusercontent.com/jangrae/img/master/practice_01.png' width=120 align=\"left\"/>"
   ]
  },
  {
   "cell_type": "markdown",
   "metadata": {
    "id": "mHOo1HeItupI"
   },
   "source": [
    "다음 경로로부터 데이터프레임을 저장하고, 다음을 수행해 봅시다.\n",
    "* 경로 : https://bit.ly/3EuWvZw\n",
    "* .info()\n",
    "* .describe()  "
   ]
  },
  {
   "cell_type": "code",
   "execution_count": null,
   "metadata": {
    "id": "H_61CzLAtvAQ"
   },
   "outputs": [],
   "source": []
  },
  {
   "cell_type": "code",
   "execution_count": null,
   "metadata": {
    "id": "whnWHI5XnWcW"
   },
   "outputs": [],
   "source": []
  },
  {
   "cell_type": "markdown",
   "metadata": {
    "id": "PJX5avcl0MVe"
   },
   "source": [
    "## 4.종합실습"
   ]
  },
  {
   "cell_type": "markdown",
   "metadata": {
    "id": "OuvbEBtB1BQ9"
   },
   "source": [
    "### 1) 기본문제"
   ]
  },
  {
   "cell_type": "markdown",
   "metadata": {
    "id": "304b1361"
   },
   "source": [
    "① 아래와 같은 총 21개의 값이 있다고 할 때, numpy를 이용하여 다음의 값들을 구하시오.\n",
    "* 1, 2, 3, 3, 4, 4, 4, 5, 6, 7, 8, 9, 10, 11, 15, 17, 17, 19, 20, 25, 30  \n",
    "\n",
    "(1) 중앙값  \n",
    "(2) 최빈값  \n",
    "(3) 4분위수  "
   ]
  },
  {
   "cell_type": "code",
   "execution_count": null,
   "metadata": {
    "id": "b1d755e5"
   },
   "outputs": [],
   "source": [
    "a = [1, 2, 3, 3, 4, 4, 4, 5, 6, 7, 8, 9, 10, 11, 15, 17, 17, 19, 20, 25, 30]\n",
    "\n",
    "# (1) 중앙값\n",
    "\n",
    "\n",
    "# (2) 최빈값\n",
    "\n",
    "\n",
    "# (3) 4분위수\n"
   ]
  },
  {
   "cell_type": "markdown",
   "metadata": {
    "id": "943ed71b"
   },
   "source": [
    "② 아래와 같은 총 21개의 값이 있다고 할 때, 이 값들을 시리즈로 변환하고 describe 함수를 이용하여 기초 통계량을 구하시오.\n",
    "* 1, 2, 3, 3, 4, 4, 4, 5, 6, 7, 8, 9, 10, 11, 15, 17, 17, 19, 20, 25, 30  "
   ]
  },
  {
   "cell_type": "code",
   "execution_count": null,
   "metadata": {
    "id": "f1052442"
   },
   "outputs": [],
   "source": [
    "a = [1, 2, 3, 3, 4, 4, 4, 5, 6, 7, 8, 9, 10, 11, 15, 17, 17, 19, 20, 25, 30]\n",
    "\n"
   ]
  },
  {
   "cell_type": "markdown",
   "metadata": {
    "id": "-d9Ajrb202om"
   },
   "source": [
    "### 2) titanic 데이터프레임\n",
    "* url :  'https://raw.githubusercontent.com/DA4BAM/dataset/master/titanic_simple.csv'"
   ]
  },
  {
   "cell_type": "markdown",
   "metadata": {
    "id": "kLE39uPLNIEk"
   },
   "source": [
    "**[titanic_simple 데이터 셋 정보]**\n",
    "\n",
    "- PassengerId : 승객번호\n",
    "- Survived : 생존여부(1:생존, 0:사망)\n",
    "- Pclass : 객실등급(1:1등급, 2:2등급, 3:3등급)\n",
    "- Name : 승객이름\n",
    "- Sex : 성별(male, female)\n",
    "- Age : 나이\n",
    "- Fare : 운임($)\n",
    "- Embarked : 승선지역(Southhampton, Cherbourg, Queenstown)"
   ]
  },
  {
   "cell_type": "markdown",
   "metadata": {
    "id": "ebcb8960"
   },
   "source": [
    "① 데이터를 불러와서 상위 5개행을 조회하시오."
   ]
  },
  {
   "cell_type": "code",
   "execution_count": null,
   "metadata": {
    "id": "3dd15e68"
   },
   "outputs": [],
   "source": []
  },
  {
   "cell_type": "markdown",
   "metadata": {
    "id": "881c3b77"
   },
   "source": [
    "② 데이터의 기본 정보를 조회하시오. (.info())"
   ]
  },
  {
   "cell_type": "code",
   "execution_count": null,
   "metadata": {
    "id": "e22c5915"
   },
   "outputs": [],
   "source": []
  },
  {
   "cell_type": "markdown",
   "metadata": {
    "id": "3817b415"
   },
   "source": [
    "③ 데이터의 변수들의 자료형을 출력하시오. (.dtypes)"
   ]
  },
  {
   "cell_type": "code",
   "execution_count": null,
   "metadata": {
    "id": "97b55739"
   },
   "outputs": [],
   "source": []
  },
  {
   "cell_type": "markdown",
   "metadata": {
    "id": "1b46ab2b"
   },
   "source": [
    "④ 데이터에서 숫자 type 변수들에 대한 기초 통계량을 출력하시오. (.describe())"
   ]
  },
  {
   "cell_type": "code",
   "execution_count": null,
   "metadata": {
    "id": "b3317877"
   },
   "outputs": [],
   "source": []
  },
  {
   "cell_type": "markdown",
   "metadata": {
    "id": "2361a5a5"
   },
   "source": [
    "⑤'Age' 변수의 기초 통계량을 출력하시오."
   ]
  },
  {
   "cell_type": "code",
   "execution_count": null,
   "metadata": {
    "id": "875857d2"
   },
   "outputs": [],
   "source": []
  },
  {
   "cell_type": "markdown",
   "metadata": {
    "id": "O9-IZOKUWyVM"
   },
   "source": [
    "기초통계량으로 부터 파악할 수 있는 내용은 무엇인가요?"
   ]
  },
  {
   "cell_type": "code",
   "execution_count": null,
   "metadata": {
    "id": "uzhRpIfWW2sQ"
   },
   "outputs": [],
   "source": []
  },
  {
   "cell_type": "markdown",
   "metadata": {
    "id": "5bfef01d"
   },
   "source": [
    "⑥'Fare' 변수의 기초 통계량을 출력하시오."
   ]
  },
  {
   "cell_type": "code",
   "execution_count": null,
   "metadata": {
    "id": "6d548fbe"
   },
   "outputs": [],
   "source": []
  },
  {
   "cell_type": "markdown",
   "metadata": {
    "id": "XUWY5w_RW3y8"
   },
   "source": [
    "기초통계량으로 부터 파악할 수 있는 내용은 무엇인가요?"
   ]
  },
  {
   "cell_type": "code",
   "execution_count": null,
   "metadata": {
    "id": "gqWUPU8GW3y8"
   },
   "outputs": [],
   "source": []
  },
  {
   "cell_type": "markdown",
   "metadata": {
    "id": "54e34ba2"
   },
   "source": [
    "⑦'Age' 변수의 중앙값과 평균을 출력하시오."
   ]
  },
  {
   "cell_type": "code",
   "execution_count": null,
   "metadata": {
    "id": "3b227582",
    "scrolled": false
   },
   "outputs": [],
   "source": []
  },
  {
   "cell_type": "markdown",
   "metadata": {
    "id": "9wXzzEWIW4Hp"
   },
   "source": [
    "기초통계량으로 부터 파악할 수 있는 내용은 무엇인가요?"
   ]
  },
  {
   "cell_type": "code",
   "execution_count": null,
   "metadata": {
    "id": "379VvPShW4Hp"
   },
   "outputs": [],
   "source": []
  },
  {
   "cell_type": "markdown",
   "metadata": {
    "id": "c11731dd"
   },
   "source": [
    "### 3) New York Air Quality\n",
    "* url : https://bit.ly/3qmthqZ"
   ]
  },
  {
   "cell_type": "markdown",
   "metadata": {
    "id": "tBiPJrpmJ7Ys"
   },
   "source": [
    "**[airquality 데이터 셋 정보]**\n",
    "\n",
    "- Ozone: 오존 농도  \n",
    "- Solar.R: 태양복사량\n",
    "- Wind: 풍속\n",
    "- Temp: 기온\n",
    "- Month: 월\n",
    "- Day: 일"
   ]
  },
  {
   "cell_type": "markdown",
   "metadata": {
    "id": "zJbqVbVG1tYd"
   },
   "source": [
    "① 데이터를 불러와서 상위 5개행을 조회하시오."
   ]
  },
  {
   "cell_type": "code",
   "execution_count": null,
   "metadata": {
    "id": "e94e853d"
   },
   "outputs": [],
   "source": []
  },
  {
   "cell_type": "markdown",
   "metadata": {
    "id": "d759ee42"
   },
   "source": [
    "② 데이터의 기본 정보를 조회하시오. (.info())"
   ]
  },
  {
   "cell_type": "code",
   "execution_count": null,
   "metadata": {
    "id": "ac8007ca"
   },
   "outputs": [],
   "source": []
  },
  {
   "cell_type": "markdown",
   "metadata": {
    "id": "d81156c6"
   },
   "source": [
    "③ 데이터의 변수들의 자료형을 출력하시오. (.dtypes)"
   ]
  },
  {
   "cell_type": "code",
   "execution_count": null,
   "metadata": {
    "id": "783afbc8"
   },
   "outputs": [],
   "source": []
  },
  {
   "cell_type": "markdown",
   "metadata": {
    "id": "72afdf9e"
   },
   "source": [
    "④ 데이터에서 숫자 type 변수들에 대한 기초 통계량을 출력하시오. (.describe())"
   ]
  },
  {
   "cell_type": "code",
   "execution_count": null,
   "metadata": {
    "id": "31d5e862",
    "scrolled": true
   },
   "outputs": [],
   "source": []
  },
  {
   "cell_type": "markdown",
   "metadata": {
    "id": "1e181f44"
   },
   "source": [
    "⑤'Ozone' 변수의 기초 통계량을 출력하시오."
   ]
  },
  {
   "cell_type": "code",
   "execution_count": null,
   "metadata": {
    "id": "85c04b97"
   },
   "outputs": [],
   "source": []
  },
  {
   "cell_type": "markdown",
   "metadata": {
    "id": "l_KHSA-XW5-h"
   },
   "source": [
    "기초통계량으로 부터 파악할 수 있는 내용은 무엇인가요?"
   ]
  },
  {
   "cell_type": "code",
   "execution_count": null,
   "metadata": {
    "id": "Uwo6MpCQW5-i"
   },
   "outputs": [],
   "source": []
  },
  {
   "cell_type": "markdown",
   "metadata": {
    "id": "7208e867"
   },
   "source": [
    "⑥'Temp' 변수의 4분위수를 출력하시오."
   ]
  },
  {
   "cell_type": "code",
   "execution_count": null,
   "metadata": {
    "id": "90a26e1b"
   },
   "outputs": [],
   "source": []
  },
  {
   "cell_type": "markdown",
   "metadata": {
    "id": "2JEX3d69W6e6"
   },
   "source": [
    "기초통계량으로 부터 파악할 수 있는 내용은 무엇인가요?"
   ]
  },
  {
   "cell_type": "code",
   "execution_count": null,
   "metadata": {
    "id": "iYKiTjHBW6e6"
   },
   "outputs": [],
   "source": []
  }
 ],
 "metadata": {
  "colab": {
   "collapsed_sections": [],
   "name": "03과 단변량분석_숫자형변수_기초통계량.ipynb",
   "provenance": [],
   "toc_visible": true
  },
  "kernelspec": {
   "display_name": "Python 3",
   "language": "python",
   "name": "python3"
  },
  "language_info": {
   "codemirror_mode": {
    "name": "ipython",
    "version": 3
   },
   "file_extension": ".py",
   "mimetype": "text/x-python",
   "name": "python",
   "nbconvert_exporter": "python",
   "pygments_lexer": "ipython3",
   "version": "3.8.7"
  }
 },
 "nbformat": 4,
 "nbformat_minor": 1
}
